{
  "nbformat": 4,
  "nbformat_minor": 0,
  "metadata": {
    "colab": {
      "name": "dataset.py",
      "provenance": [],
      "include_colab_link": true
    },
    "kernelspec": {
      "name": "python3",
      "display_name": "Python 3"
    }
  },
  "cells": [
    {
      "cell_type": "markdown",
      "metadata": {
        "id": "view-in-github",
        "colab_type": "text"
      },
      "source": [
        "<a href=\"https://colab.research.google.com/github/Keerthi001/S7-Assignment/blob/main/dataset_py.ipynb\" target=\"_parent\"><img src=\"https://colab.research.google.com/assets/colab-badge.svg\" alt=\"Open In Colab\"/></a>"
      ]
    },
    {
      "cell_type": "code",
      "metadata": {
        "id": "qEpEuNoyST5W"
      },
      "source": [
        "import torch\n",
        "from torchvision import datasets, transforms, utils\n",
        "import numpy\n",
        "\n",
        "def get_dataset(name, train_transforms = None, test_transforms = None):\n",
        "    if name == 'MNIST':\n",
        "        train = datasets.MNIST('./data', train=True, download=True,transform=train_transforms)\n",
        "        test = datasets.MNIST('./data', train=True, download=True,transform=test_transforms)\n",
        "    elif name == 'CIFAR10':\n",
        "        train = datasets.CIFAR10(root='./data', train=True,download=True,transform=train_transforms)\n",
        "        test  = datasets.CIFAR10(root='./data', train=False,download=True,transform=test_transforms)\n",
        "    \n",
        "    return train,test\n",
        "   \n",
        "\n",
        "def get_transforms(mean, std):\n",
        "    train = transforms.Compose([\n",
        "                                        # transforms.Resize((28, 28)),\n",
        "                                        # transforms.ColorJitter(brightness=0.10, contrast=0.1, saturation=0.10, hue=0.1),\n",
        "                                        #transforms.RandomRotation((-5.0, 5.0)),\n",
        "                                        # transforms.RandomAffine((-5.0,5.0),fillcolor=1),\n",
        "                                        #transforms.RandomPerspective(),\n",
        "                                        transforms.ToTensor(),\n",
        "                                        # The mean and std have to be sequences (e.g., tuples), therefore you should add a comma after the values.\n",
        "                                        transforms.Normalize(\n",
        "                                            (mean,), (std,))\n",
        "                                        ])\n",
        "    test = transforms.Compose([\n",
        "        #  transforms.Resize((28, 28)),\n",
        "        #  transforms.ColorJitter(brightness=0.10, contrast=0.1, saturation=0.10, hue=0.1),\n",
        "        transforms.ToTensor(),\n",
        "        # The mean and std have to be sequences (e.g., tuples), therefore you should add a comma after the values.\n",
        "        transforms.Normalize((mean,), (std,))\n",
        "    ])\n",
        "    return train,test\n",
        "\n",
        "\n",
        "def get_dataloader(train,test,**dataloader_args):\n",
        "    train = torch.utils.data.DataLoader(train, ** dataloader_args)\n",
        "    test = torch.utils.data.DataLoader(test, **dataloader_args)\n",
        "    return train, test\n",
        "\n",
        "\n",
        "def get_data_stats(data):\n",
        "    return {'Numpy Shape': data.cpu().numpy().shape,\n",
        "    'Tensor Shape': data.size(),\n",
        "    'min': torch.min(data),\n",
        "    'max': torch.max(data),\n",
        "    'mean': torch.Tensor.float(data).mean(),\n",
        "    'std': torch.Tensor.float(data).std(),\n",
        "    'var': torch.Tensor.float(data).var()}\n"
      ],
      "execution_count": null,
      "outputs": []
    }
  ]
}
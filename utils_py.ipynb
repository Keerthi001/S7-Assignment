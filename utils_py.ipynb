{
  "nbformat": 4,
  "nbformat_minor": 0,
  "metadata": {
    "colab": {
      "name": "utils.py",
      "provenance": [],
      "authorship_tag": "ABX9TyO7tstoJqYxx/cHIzG3ifns",
      "include_colab_link": true
    },
    "kernelspec": {
      "name": "python3",
      "display_name": "Python 3"
    },
    "accelerator": "GPU"
  },
  "cells": [
    {
      "cell_type": "markdown",
      "metadata": {
        "id": "view-in-github",
        "colab_type": "text"
      },
      "source": [
        "<a href=\"https://colab.research.google.com/github/Keerthi001/S7-Assignment/blob/main/utils_py.ipynb\" target=\"_parent\"><img src=\"https://colab.research.google.com/assets/colab-badge.svg\" alt=\"Open In Colab\"/></a>"
      ]
    },
    {
      "cell_type": "code",
      "metadata": {
        "id": "At7Hxw4soYZ9"
      },
      "source": [
        "import torch\r\n",
        "import matplotlib.pyplot as plt\r\n",
        "\r\n",
        "def get_device():\r\n",
        "  SEED = 3\r\n",
        "\r\n",
        "  # is cuda available\r\n",
        "  cuda = torch.cuda.is_available()\r\n",
        "  print(\"CUDA Available?\", cuda)\r\n",
        "\r\n",
        "  torch.manual_seed(SEED)\r\n",
        "\r\n",
        "  if cuda:\r\n",
        "    torch.cuda.manual_seed(SEED)\r\n",
        "\r\n",
        "  use_cuda = torch.cuda.is_available()\r\n",
        "  device = torch.device(\"cuda\" if use_cuda else \"cpu\")\r\n",
        "  return device\r\n",
        "\r\n",
        "\r\n",
        "def get_misclassified_images(gbn_model,test_loader):\r\n",
        "        \r\n",
        "    test_images = []\r\n",
        "    target_labels = []\r\n",
        "    target_predictions = []\r\n",
        "    for img, target in test_loader:\r\n",
        "      prediction = torch.argmax(gbn_model(img), dim=1)\r\n",
        "      test_images.append( img )\r\n",
        "      target_labels.append( target )\r\n",
        "      target_predictions.append( prediction )\r\n",
        "\r\n",
        "    test_images = torch.cat(test_images)\r\n",
        "    target_labels = torch.cat(target_labels)\r\n",
        "    target_predictions = torch.cat(target_predictions)\r\n",
        "    misclassified_index = target_labels.ne(target_predictions).numpy()\r\n",
        "    test_images = test_images[misclassified_index]\r\n",
        "    target_labels = target_labels[misclassified_index]\r\n",
        "    target_predictions = target_predictions[misclassified_index]\r\n",
        "\r\n",
        "    return test_images,target_labels,target_predictions\r\n",
        "\r\n",
        "def plot_results(train_losses,train_acc,test_losses,test_acc):\r\n",
        "    data = {'train_loss':train_losses,  'train_acc':train_acc,  'test_loss':test_losses,  'test_acc':test_acc}\r\n",
        "    fig, axs = plt.subplots(1,4,figsize=(30,5))\r\n",
        "    axs_pos = {'train_loss':(0),\r\n",
        "    'train_acc':(1),\r\n",
        "    'test_loss':(2),\r\n",
        "    'test_acc':(3)}\r\n",
        "\r\n",
        "    for i in data:\r\n",
        "        ax = axs[axs_pos[i]]\r\n",
        "        ax.plot(data[i])\r\n",
        "        ax.set_title(i)\r\n",
        "\r\n",
        "def show_misclassified_images(test_images,target_labels,target_predictions,nrow=5, ncol=5):\r\n",
        "  fig, axes = plt.subplots(nrows=nrow, ncols=ncol, figsize=(15,15))\r\n",
        "  fig.subplots_adjust(hspace=0.5)\r\n",
        "  fig.suptitle('Misclassified Images in GBN Model')\r\n",
        "\r\n",
        "  for ax, image, target, prediction in zip(axes.flatten(), test_images,target_labels,target_predictions):\r\n",
        "      ax.imshow(image[0])\r\n",
        "      ax.set(title='target:{t} prediction:{p}'.format(t=target.item(),p=prediction.item()))\r\n",
        "      ax.axis('off')\r\n"
      ],
      "execution_count": 1,
      "outputs": []
    }
  ]
}